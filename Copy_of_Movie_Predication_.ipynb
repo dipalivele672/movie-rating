{
  "cells": [
    {
      "cell_type": "markdown",
      "metadata": {
        "id": "view-in-github",
        "colab_type": "text"
      },
      "source": [
        "<a href=\"https://colab.research.google.com/github/dipalivele672/movie-rating/blob/main/Copy_of_Movie_Predication_.ipynb\" target=\"_parent\"><img src=\"https://colab.research.google.com/assets/colab-badge.svg\" alt=\"Open In Colab\"/></a>"
      ]
    },
    {
      "cell_type": "code",
      "execution_count": null,
      "metadata": {
        "id": "VU4Q4_V50XG5"
      },
      "outputs": [],
      "source": [
        "# Import necessary libraries\n",
        "import pandas as pd\n",
        "import numpy as np\n",
        "import matplotlib.pyplot as plt\n",
        "import seaborn as sns\n",
        "from sklearn.model_selection import train_test_split\n",
        "from sklearn.preprocessing import StandardScaler\n",
        "from sklearn.linear_model import LogisticRegression\n",
        "from sklearn.metrics import accuracy_score, classification_report, confusion_matrix\n"
      ]
    },
    {
      "cell_type": "markdown",
      "metadata": {
        "id": "XyTY6-or7BbK"
      },
      "source": []
    },
    {
      "cell_type": "code",
      "execution_count": null,
      "metadata": {
        "collapsed": true,
        "id": "d6pw3fUx2W7B"
      },
      "outputs": [],
      "source": [
        "# Load the dataset (Download from Kaggle: https://www.kaggle.com/mlg-ulb/creditcardfraud)\n",
        "from google.colab import files\n",
        "uploaded = files.upload()\n"
      ]
    },
    {
      "source": [
        "import io\n",
        "imdb_df = pd.read_csv(io.BytesIO(uploaded['IMDb India Movies (2).csv']), encoding='unicode_escape', on_bad_lines='skip', sep=',', engine='python')"
      ],
      "cell_type": "code",
      "metadata": {
        "id": "39oDza-CGdV2"
      },
      "execution_count": null,
      "outputs": []
    },
    {
      "cell_type": "code",
      "source": [
        "from google.colab import drive\n",
        "drive.mount('/content/drive')"
      ],
      "metadata": {
        "id": "dV5SHtEKMXiM"
      },
      "execution_count": null,
      "outputs": []
    },
    {
      "source": [
        "# Display dataset info\n",
        "imdb_df.info()\n",
        "\n",
        "# Show basic statistics (mean, min, max, etc.)\n",
        "print(\"\\nDataset Summary:\")\n",
        "print(imdb_df.describe())"
      ],
      "cell_type": "code",
      "metadata": {
        "colab": {
          "base_uri": "https://localhost:8080/"
        },
        "id": "ZkfLROygG5h8",
        "outputId": "a273b584-027f-4b0b-bdf5-3d690352dace"
      },
      "execution_count": null,
      "outputs": [
        {
          "output_type": "stream",
          "name": "stdout",
          "text": [
            "<class 'pandas.core.frame.DataFrame'>\n",
            "RangeIndex: 174 entries, 0 to 173\n",
            "Data columns (total 1 columns):\n",
            " #   Column           Non-Null Count  Dtype \n",
            "---  ------           --------------  ----- \n",
            " 0   <!DOCTYPE html>  174 non-null    object\n",
            "dtypes: object(1)\n",
            "memory usage: 1.5+ KB\n",
            "\n",
            "Dataset Summary:\n",
            "       <!DOCTYPE html>\n",
            "count              174\n",
            "unique             171\n",
            "top          </script>\n",
            "freq                 2\n"
          ]
        }
      ]
    },
    {
      "cell_type": "code",
      "source": [],
      "metadata": {
        "id": "z1_zqzZcKfTL"
      },
      "execution_count": null,
      "outputs": []
    },
    {
      "source": [
        "# Drop irrelevant columns (modify as needed)\n",
        "imdb_df = imdb_df.drop(columns=['Movie_ID', 'Release_Date'], errors='ignore')\n",
        "# Replace 'df' with 'imdb_df' to use the correct DataFrame"
      ],
      "cell_type": "code",
      "metadata": {
        "id": "Js0hnuwVKTc2"
      },
      "execution_count": null,
      "outputs": []
    },
    {
      "source": [
        "# Drop rows with missing values\n",
        "imdb_df = imdb_df.dropna() # Replace 'df' with 'imdb_df' to use the correct DataFrame"
      ],
      "cell_type": "code",
      "metadata": {
        "id": "lYap95PYKmQr"
      },
      "execution_count": null,
      "outputs": []
    },
    {
      "source": [
        "from sklearn.preprocessing import LabelEncoder\n",
        "\n",
        "label_encoders = {}  # Store encoders for future use\n",
        "for column in ['Genre', 'Director', 'Actors']:\n",
        "    # Check if the column exists before processing\n",
        "    if column in imdb_df.columns:\n",
        "        le = LabelEncoder()\n",
        "        imdb_df[column] = le.fit_transform(imdb_df[column]) # Replace 'df' with 'imdb_df'\n",
        "from sklearn.preprocessing import LabelEncoder\n",
        "\n",
        "label_encoders = {}  # Store encoders for future use\n",
        "for column in ['Genre', 'Director', 'Actors']:\n",
        "    # Check if the column exists before processing\n",
        "    if column in imdb_df.columns:\n",
        "        le = LabelEncoder()\n",
        "        imdb_df[column] = le.fit_transform(imdb_df[column]) # Replace 'df' with 'imdb_df'\n",
        "        label_encoders[column] = le\n",
        "    else:\n",
        "        print(f\"Warning: Column '{column}' not found in dataframe.\")"
      ],
      "cell_type": "code",
      "metadata": {
        "colab": {
          "base_uri": "https://localhost:8080/"
        },
        "id": "0VT2w4OMK2pK",
        "outputId": "d2b4a42a-17d1-4195-d309-7da90f85ac19"
      },
      "execution_count": null,
      "outputs": [
        {
          "output_type": "stream",
          "name": "stdout",
          "text": [
            "Warning: Column 'Genre' not found in dataframe.\n",
            "Warning: Column 'Director' not found in dataframe.\n",
            "Warning: Column 'Actors' not found in dataframe.\n"
          ]
        }
      ]
    },
    {
      "source": [
        "# Import necessary libraries\n",
        "import pandas as pd\n",
        "import io\n",
        "\n",
        "# ... (your previous code to upload and read the file)\n",
        "\n",
        "# Load the dataset and skip bad lines to avoid potential HTML content issues\n",
        "imdb_df = pd.read_csv(io.BytesIO(uploaded['IMDb India Movies (2).csv']), encoding='unicode_escape', on_bad_lines='skip', sep=',', engine='python')\n",
        "\n",
        "# ... (your other code)"
      ],
      "cell_type": "code",
      "metadata": {
        "id": "984y-zkELOfK"
      },
      "execution_count": null,
      "outputs": []
    },
    {
      "source": [
        "# Import necessary libraries\n",
        "import pandas as pd\n",
        "import io\n",
        "from sklearn.preprocessing import LabelEncoder\n",
        "# Import necessary libraries\n",
        "import pandas as pd\n",
        "import io\n",
        "from sklearn.preprocessing import LabelEncoder\n",
        "from sklearn.preprocessing import StandardScaler\n",
        "from sklearn.model_selection import train_test_split\n",
        "from sklearn.ensemble import RandomForestClassifier # Added a classifier, as sklearn.ensemble is a module not a class"
      ],
      "cell_type": "code",
      "metadata": {
        "id": "9BoUMNn5LZr0"
      },
      "execution_count": null,
      "outputs": []
    },
    {
      "source": [
        "# Import necessary libraries\n",
        "import pandas as pd\n",
        "import io\n",
        "from sklearn.preprocessing import LabelEncoder\n",
        "from sklearn.preprocessing import StandardScaler\n",
        "from sklearn.model_selection import train_test_split\n",
        "from sklearn.ensemble import RandomForestRegressor # Import Random"
      ],
      "cell_type": "code",
      "metadata": {
        "id": "d2h-ieAoLwJW"
      },
      "execution_count": null,
      "outputs": []
    },
    {
      "source": [
        "# Import necessary libraries\n",
        "import pandas as pd\n",
        "import io\n",
        "from sklearn.preprocessing import LabelEncoder\n",
        "from sklearn.preprocessing import StandardScaler\n",
        "from sklearn.model_selection import train_test_split\n",
        "from sklearn.ensemble import RandomForestRegressor\n",
        "import matplotlib.pyplot as plt\n",
        "import seaborn as sns\n",
        "\n",
        "\n",
        "# Assuming 'imdb_df' is your DataFrame and you've already pre"
      ],
      "cell_type": "code",
      "metadata": {
        "id": "QGYHTqCwMCEM"
      },
      "execution_count": null,
      "outputs": []
    }
  ],
  "metadata": {
    "colab": {
      "provenance": [],
      "authorship_tag": "ABX9TyO35ri+wmN89+JVNPh/CIdA",
      "include_colab_link": true
    },
    "kernelspec": {
      "display_name": "Python 3",
      "name": "python3"
    },
    "language_info": {
      "name": "python"
    }
  },
  "nbformat": 4,
  "nbformat_minor": 0
}